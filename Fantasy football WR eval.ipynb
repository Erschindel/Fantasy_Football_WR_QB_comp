{
 "cells": [
  {
   "cell_type": "markdown",
   "metadata": {},
   "source": [
    "# Are WR fantasy football points indicative of QB points?"
   ]
  },
  {
   "cell_type": "markdown",
   "metadata": {},
   "source": [
    "The NFL season is rapidly approaching, as is the fantasy football season. I set out to learn more about the relationships between quarterback play and wide receiver play before my draft on September 8th. "
   ]
  },
  {
   "cell_type": "markdown",
   "metadata": {},
   "source": [
    "This data is taken from NFL.com's fantasy records for a standard league. I wasn't interested in PPR leagues."
   ]
  },
  {
   "cell_type": "markdown",
   "metadata": {},
   "source": [
    "Fantasy football points are certainly relevant when investigating fantasy success; however, they are also a reasonable general success metric for someone who isn't interested in scraping the yardage, passing/receiving touchdowns, injuries, and other such potentially relevant metrics and subsequently attributing some sort of weight to each of them. Basically, while those numbers are valuable, I'm happy to draw conclusions about overall play quality from fantasy points."
   ]
  },
  {
   "cell_type": "markdown",
   "metadata": {},
   "source": [
    "Anywho, regardless of whether this is valuable information to anybody else, it is at least good practice for me."
   ]
  },
  {
   "cell_type": "code",
   "execution_count": 97,
   "metadata": {},
   "outputs": [],
   "source": [
    "# import packages\n",
    "\n",
    "from bs4 import BeautifulSoup as bs\n",
    "import matplotlib.pyplot as plt\n",
    "import requests\n",
    "import pandas as pd\n",
    "import time\n",
    "import numpy as np"
   ]
  },
  {
   "cell_type": "markdown",
   "metadata": {},
   "source": [
    "## WR requests"
   ]
  },
  {
   "cell_type": "code",
   "execution_count": 98,
   "metadata": {},
   "outputs": [],
   "source": [
    "# get top 150 WR info \n",
    "## Do I have to do 6 different gets? Is there a way to navigate the page without selenium and just do one request?\n",
    "## Sleep is well-intended, but is it necessary or even helpful?\n",
    "\n",
    "r1 = requests.get(\"https://fantasy.nfl.com/research/scoringleaders?position=3&statCategory=stats&statSeason=2019&statType=seasonStats&statWeek=1\")\n",
    "soup1 = bs(r1.content)\n",
    "time.sleep(.5)\n",
    "\n",
    "r2 = requests.get(\"https://fantasy.nfl.com/research/scoringleaders?offset=26&position=3&sort=pts&statCategory=stats&statSeason=2019&statType=seasonStats&statWeek=1\")\n",
    "soup2 = bs(r2.content)\n",
    "time.sleep(.5)\n",
    "\n",
    "r3 = requests.get(\"https://fantasy.nfl.com/research/scoringleaders?offset=51&position=3&sort=pts&statCategory=stats&statSeason=2019&statType=seasonStats&statWeek=1\")\n",
    "soup3 = bs(r3.content)\n",
    "time.sleep(.5)\n",
    "\n",
    "r4 = requests.get(\"https://fantasy.nfl.com/research/scoringleaders?offset=76&position=3&sort=pts&statCategory=stats&statSeason=2019&statType=seasonStats&statWeek=1\")\n",
    "soup4 = bs(r4.content)\n",
    "time.sleep(.5)\n",
    "\n",
    "r5 = requests.get(\"https://fantasy.nfl.com/research/scoringleaders?offset=101&position=3&sort=pts&statCategory=stats&statSeason=2019&statType=seasonStats&statWeek=1\")\n",
    "soup5 = bs(r5.content)\n",
    "time.sleep(.5)\n",
    "\n",
    "r6 = requests.get(\"https://fantasy.nfl.com/research/scoringleaders?offset=126&position=3&sort=pts&statCategory=stats&statSeason=2019&statType=seasonStats&statWeek=1\")\n",
    "soup6 = bs(r6.content)"
   ]
  },
  {
   "cell_type": "markdown",
   "metadata": {},
   "source": [
    "## Collect desired columns: name, team, points, position"
   ]
  },
  {
   "cell_type": "code",
   "execution_count": 99,
   "metadata": {
    "scrolled": false
   },
   "outputs": [],
   "source": [
    "# Get player information\n",
    "## can I map 6 soups together into the player_list? Should I make big soup instead of big combined player info? Refactor\n",
    "\n",
    "player_info1 = soup1.findAll(\"td\", {\"class\": \"playerNameAndInfo\"} )\n",
    "player_info2 = soup2.findAll(\"td\", {\"class\": \"playerNameAndInfo\"} )\n",
    "player_info3 = soup3.findAll(\"td\", {\"class\": \"playerNameAndInfo\"} )\n",
    "player_info4 = soup4.findAll(\"td\", {\"class\": \"playerNameAndInfo\"} )\n",
    "player_info5 = soup5.findAll(\"td\", {\"class\": \"playerNameAndInfo\"} )\n",
    "player_info6 = soup6.findAll(\"td\", {\"class\": \"playerNameAndInfo\"} )\n",
    "\n",
    "combined_player_info = player_info1 + player_info2 + player_info3 + player_info4 + player_info5 + player_info6"
   ]
  },
  {
   "cell_type": "code",
   "execution_count": 100,
   "metadata": {},
   "outputs": [],
   "source": [
    "# Extract player names\n",
    "\n",
    "player_list = [combined_player_info[name].a.text for name in range(len(combined_player_info))] "
   ]
  },
  {
   "cell_type": "code",
   "execution_count": 101,
   "metadata": {},
   "outputs": [],
   "source": [
    "# Extract player positions (might work with TEs later)\n",
    "\n",
    "position_list = [combined_player_info[name].em.text.split(\" \")[0] for name in range(len(combined_player_info))]"
   ]
  },
  {
   "cell_type": "code",
   "execution_count": 102,
   "metadata": {},
   "outputs": [],
   "source": [
    "# Extract player teams\n",
    "# Add N/A for players who have left teams\n",
    "# list comprehension is nice, but hard to read\n",
    "\n",
    "team_list = ['N/A' if len(combined_player_info[team].em.text.split(\" \")) <= 1 else combined_player_info[team].em.text.split(\" \")[2] for team in range(len(combined_player_info))]"
   ]
  },
  {
   "cell_type": "code",
   "execution_count": 103,
   "metadata": {},
   "outputs": [],
   "source": [
    "# Extract player points\n",
    "\n",
    "player_points1 = soup1.findAll(\"td\", {\"class\": \"statTotal\"} )\n",
    "player_points2 = soup2.findAll(\"td\", {\"class\": \"statTotal\"} )\n",
    "player_points3 = soup3.findAll(\"td\", {\"class\": \"statTotal\"} )\n",
    "player_points4 = soup4.findAll(\"td\", {\"class\": \"statTotal\"} )\n",
    "player_points5 = soup5.findAll(\"td\", {\"class\": \"statTotal\"} )\n",
    "player_points6 = soup6.findAll(\"td\", {\"class\": \"statTotal\"} )\n",
    " \n",
    "combined_player_points = player_points1 + player_points2 + player_points3 + player_points4 + player_points5 + player_points6\n",
    "\n",
    "points_list = [float(combined_player_points[points].text) for points in range(len(combined_player_points))]"
   ]
  },
  {
   "cell_type": "markdown",
   "metadata": {},
   "source": [
    "## Create WR DataFrame"
   ]
  },
  {
   "cell_type": "code",
   "execution_count": 104,
   "metadata": {
    "scrolled": true
   },
   "outputs": [
    {
     "data": {
      "text/html": [
       "<div>\n",
       "<style scoped>\n",
       "    .dataframe tbody tr th:only-of-type {\n",
       "        vertical-align: middle;\n",
       "    }\n",
       "\n",
       "    .dataframe tbody tr th {\n",
       "        vertical-align: top;\n",
       "    }\n",
       "\n",
       "    .dataframe thead th {\n",
       "        text-align: right;\n",
       "    }\n",
       "</style>\n",
       "<table border=\"1\" class=\"dataframe\">\n",
       "  <thead>\n",
       "    <tr style=\"text-align: right;\">\n",
       "      <th></th>\n",
       "      <th>Name</th>\n",
       "      <th>Points</th>\n",
       "      <th>Team</th>\n",
       "      <th>Position</th>\n",
       "    </tr>\n",
       "  </thead>\n",
       "  <tbody>\n",
       "    <tr>\n",
       "      <th>0</th>\n",
       "      <td>Michael Thomas</td>\n",
       "      <td>374.60</td>\n",
       "      <td>NO</td>\n",
       "      <td>WR</td>\n",
       "    </tr>\n",
       "    <tr>\n",
       "      <th>1</th>\n",
       "      <td>Chris Godwin</td>\n",
       "      <td>276.10</td>\n",
       "      <td>TB</td>\n",
       "      <td>WR</td>\n",
       "    </tr>\n",
       "    <tr>\n",
       "      <th>2</th>\n",
       "      <td>Julio Jones</td>\n",
       "      <td>274.10</td>\n",
       "      <td>ATL</td>\n",
       "      <td>WR</td>\n",
       "    </tr>\n",
       "    <tr>\n",
       "      <th>3</th>\n",
       "      <td>Cooper Kupp</td>\n",
       "      <td>270.50</td>\n",
       "      <td>LA</td>\n",
       "      <td>WR</td>\n",
       "    </tr>\n",
       "    <tr>\n",
       "      <th>4</th>\n",
       "      <td>DeAndre Hopkins</td>\n",
       "      <td>268.54</td>\n",
       "      <td>ARI</td>\n",
       "      <td>WR</td>\n",
       "    </tr>\n",
       "  </tbody>\n",
       "</table>\n",
       "</div>"
      ],
      "text/plain": [
       "              Name  Points Team Position\n",
       "0   Michael Thomas  374.60   NO       WR\n",
       "1     Chris Godwin  276.10   TB       WR\n",
       "2      Julio Jones  274.10  ATL       WR\n",
       "3      Cooper Kupp  270.50   LA       WR\n",
       "4  DeAndre Hopkins  268.54  ARI       WR"
      ]
     },
     "execution_count": 104,
     "metadata": {},
     "output_type": "execute_result"
    }
   ],
   "source": [
    "df_WRs = pd.DataFrame({\"Name\": player_list, \"Points\": points_list, \"Team\": team_list, \"Position\": position_list})\n",
    "df_WRs.head()"
   ]
  },
  {
   "cell_type": "code",
   "execution_count": 105,
   "metadata": {},
   "outputs": [
    {
     "name": "stdout",
     "output_type": "stream",
     "text": [
      "0\n"
     ]
    }
   ],
   "source": [
    "# Check for null WR names \n",
    "\n",
    "check_null_WRs = pd.isnull(df_WRs[\"Name\"])\n",
    "\n",
    "WR_count = 0\n",
    "for name in check_null_WRs:\n",
    "    if name == True:\n",
    "        WR_count += 1\n",
    "print(WR_count)"
   ]
  },
  {
   "cell_type": "markdown",
   "metadata": {},
   "source": [
    "While I could go through and change player teams individually for every player who has moved, I'll just do so for the top 75 players, as they will skew results the most."
   ]
  },
  {
   "cell_type": "code",
   "execution_count": 106,
   "metadata": {},
   "outputs": [
    {
     "data": {
      "text/html": [
       "<div>\n",
       "<style scoped>\n",
       "    .dataframe tbody tr th:only-of-type {\n",
       "        vertical-align: middle;\n",
       "    }\n",
       "\n",
       "    .dataframe tbody tr th {\n",
       "        vertical-align: top;\n",
       "    }\n",
       "\n",
       "    .dataframe thead th {\n",
       "        text-align: right;\n",
       "    }\n",
       "</style>\n",
       "<table border=\"1\" class=\"dataframe\">\n",
       "  <thead>\n",
       "    <tr style=\"text-align: right;\">\n",
       "      <th></th>\n",
       "      <th>Name</th>\n",
       "      <th>Points</th>\n",
       "      <th>Team</th>\n",
       "      <th>Position</th>\n",
       "    </tr>\n",
       "  </thead>\n",
       "  <tbody>\n",
       "    <tr>\n",
       "      <th>0</th>\n",
       "      <td>Michael Thomas</td>\n",
       "      <td>374.60</td>\n",
       "      <td>NO</td>\n",
       "      <td>WR</td>\n",
       "    </tr>\n",
       "    <tr>\n",
       "      <th>1</th>\n",
       "      <td>Chris Godwin</td>\n",
       "      <td>276.10</td>\n",
       "      <td>TB</td>\n",
       "      <td>WR</td>\n",
       "    </tr>\n",
       "    <tr>\n",
       "      <th>2</th>\n",
       "      <td>Julio Jones</td>\n",
       "      <td>274.10</td>\n",
       "      <td>ATL</td>\n",
       "      <td>WR</td>\n",
       "    </tr>\n",
       "    <tr>\n",
       "      <th>3</th>\n",
       "      <td>Cooper Kupp</td>\n",
       "      <td>270.50</td>\n",
       "      <td>LA</td>\n",
       "      <td>WR</td>\n",
       "    </tr>\n",
       "    <tr>\n",
       "      <th>4</th>\n",
       "      <td>DeAndre Hopkins</td>\n",
       "      <td>268.54</td>\n",
       "      <td>HOU</td>\n",
       "      <td>WR</td>\n",
       "    </tr>\n",
       "  </tbody>\n",
       "</table>\n",
       "</div>"
      ],
      "text/plain": [
       "              Name  Points Team Position\n",
       "0   Michael Thomas  374.60   NO       WR\n",
       "1     Chris Godwin  276.10   TB       WR\n",
       "2      Julio Jones  274.10  ATL       WR\n",
       "3      Cooper Kupp  270.50   LA       WR\n",
       "4  DeAndre Hopkins  268.54  HOU       WR"
      ]
     },
     "execution_count": 106,
     "metadata": {},
     "output_type": "execute_result"
    }
   ],
   "source": [
    "df_WRs.at[4,\"Team\"] = \"HOU\"\n",
    "df_WRs.at[23, \"Team\"] = \"MIN\"\n",
    "df_WRs.at[29, \"Team\"] = \"SF\"\n",
    "df_WRs.at[39, \"Team\"] = \"NYJ\"\n",
    "df_WRs.at[43, \"Team\"] = \"DAL\"\n",
    "df_WRs.at[50, \"Team\"] = \"TB\"\n",
    "df_WRs.at[61, \"Team\"] = \"LA\"\n",
    "df_WRs.at[69, \"Team\"] = \"NE\"\n",
    "df_WRs.at[75, \"Team\"] = \"PHI\"\n",
    "df_WRs.head()"
   ]
  },
  {
   "cell_type": "markdown",
   "metadata": {},
   "source": [
    "## QB requests"
   ]
  },
  {
   "cell_type": "code",
   "execution_count": 107,
   "metadata": {},
   "outputs": [],
   "source": [
    "r7 = requests.get(\"https://fantasy.nfl.com/research/scoringleaders?position=1&statCategory=stats&statSeason=2019&statType=seasonStats&statWeek=1\")\n",
    "soup7 = bs(r7.content)\n",
    "time.sleep(.5)\n",
    "\n",
    "r8 = requests.get(\"https://fantasy.nfl.com/research/scoringleaders?offset=26&position=1&sort=pts&statCategory=stats&statSeason=2019&statType=seasonStats&statWeek=1\")\n",
    "soup8 = bs(r8.content)\n"
   ]
  },
  {
   "cell_type": "code",
   "execution_count": 108,
   "metadata": {},
   "outputs": [],
   "source": [
    "player_info7 = soup7.findAll(\"td\", {\"class\": \"playerNameAndInfo\"})\n",
    "player_info8 = soup8.findAll(\"td\", {\"class\": \"playerNameAndInfo\"})\n",
    "combined_QB_info = player_info7 + player_info8"
   ]
  },
  {
   "cell_type": "markdown",
   "metadata": {},
   "source": [
    "We have 50 QBs here. Each of 32 teams is generally led by 1 qb per season. No reason not to keep backup QBs though, since their points were still valid for team QB play evaluation."
   ]
  },
  {
   "cell_type": "markdown",
   "metadata": {},
   "source": [
    "Also, the smaller sample size of QBs means that they are a) more significant in determining relative success from last season, and b) relatively easy to adjust within a DataFrame, without needing to load in a list of last year's QBs. While this wouldn't be practical for large datasets, in this case I can do it manually."
   ]
  },
  {
   "cell_type": "code",
   "execution_count": 109,
   "metadata": {},
   "outputs": [],
   "source": [
    "# Extract QB names (same as with WRs)\n",
    "\n",
    "QB_names = [combined_QB_info[name].a.text for name in range(len(combined_QB_info))]"
   ]
  },
  {
   "cell_type": "code",
   "execution_count": 110,
   "metadata": {},
   "outputs": [],
   "source": [
    "# Extract QB teams (same as with WRs. No \"N/A\"s this time; might as well keep that anyway)\n",
    "\n",
    "QB_teams = ['N/A' if len(combined_QB_info[team].em.text.split(\" \")) <= 1 else combined_QB_info[team].em.text.split(\" \")[2] for team in range(len(combined_QB_info))]"
   ]
  },
  {
   "cell_type": "code",
   "execution_count": 111,
   "metadata": {},
   "outputs": [],
   "source": [
    "# Extract QB points (same as with WRs)\n",
    "\n",
    "player_points7 = soup7.findAll(\"td\", {\"class\": \"statTotal\"} )\n",
    "player_points8 = soup8.findAll(\"td\", {\"class\": \"statTotal\"} )\n",
    "\n",
    "combined_QB_points = player_points7 + player_points8\n",
    "\n",
    "QB_points = [float(combined_QB_points[points].text) for points in range(len(combined_QB_points))]"
   ]
  },
  {
   "cell_type": "markdown",
   "metadata": {},
   "source": [
    "Skipping position in this one, since this is a separate DataFrame of only QBs"
   ]
  },
  {
   "cell_type": "markdown",
   "metadata": {},
   "source": [
    "## Create QB DataFrame"
   ]
  },
  {
   "cell_type": "code",
   "execution_count": 112,
   "metadata": {},
   "outputs": [
    {
     "data": {
      "text/html": [
       "<div>\n",
       "<style scoped>\n",
       "    .dataframe tbody tr th:only-of-type {\n",
       "        vertical-align: middle;\n",
       "    }\n",
       "\n",
       "    .dataframe tbody tr th {\n",
       "        vertical-align: top;\n",
       "    }\n",
       "\n",
       "    .dataframe thead th {\n",
       "        text-align: right;\n",
       "    }\n",
       "</style>\n",
       "<table border=\"1\" class=\"dataframe\">\n",
       "  <thead>\n",
       "    <tr style=\"text-align: right;\">\n",
       "      <th></th>\n",
       "      <th>Name</th>\n",
       "      <th>Team</th>\n",
       "      <th>Points</th>\n",
       "    </tr>\n",
       "  </thead>\n",
       "  <tbody>\n",
       "    <tr>\n",
       "      <th>0</th>\n",
       "      <td>Lamar Jackson</td>\n",
       "      <td>BAL</td>\n",
       "      <td>415.68</td>\n",
       "    </tr>\n",
       "    <tr>\n",
       "      <th>1</th>\n",
       "      <td>Dak Prescott</td>\n",
       "      <td>DAL</td>\n",
       "      <td>337.78</td>\n",
       "    </tr>\n",
       "    <tr>\n",
       "      <th>2</th>\n",
       "      <td>Russell Wilson</td>\n",
       "      <td>SEA</td>\n",
       "      <td>328.60</td>\n",
       "    </tr>\n",
       "    <tr>\n",
       "      <th>3</th>\n",
       "      <td>Deshaun Watson</td>\n",
       "      <td>HOU</td>\n",
       "      <td>320.98</td>\n",
       "    </tr>\n",
       "    <tr>\n",
       "      <th>4</th>\n",
       "      <td>Jameis Winston</td>\n",
       "      <td>NO</td>\n",
       "      <td>305.36</td>\n",
       "    </tr>\n",
       "  </tbody>\n",
       "</table>\n",
       "</div>"
      ],
      "text/plain": [
       "             Name Team  Points\n",
       "0   Lamar Jackson  BAL  415.68\n",
       "1    Dak Prescott  DAL  337.78\n",
       "2  Russell Wilson  SEA  328.60\n",
       "3  Deshaun Watson  HOU  320.98\n",
       "4  Jameis Winston   NO  305.36"
      ]
     },
     "execution_count": 112,
     "metadata": {},
     "output_type": "execute_result"
    }
   ],
   "source": [
    "df_QBs = pd.DataFrame({\"Name\": QB_names, \"Team\": QB_teams, \"Points\": QB_points})\n",
    "df_QBs.head()"
   ]
  },
  {
   "cell_type": "code",
   "execution_count": 113,
   "metadata": {},
   "outputs": [
    {
     "name": "stdout",
     "output_type": "stream",
     "text": [
      "0\n"
     ]
    }
   ],
   "source": [
    "# Check for null QB names \n",
    "\n",
    "check_null_QBs = pd.isnull(df_QBs[\"Name\"])\n",
    "\n",
    "QB_count = 0\n",
    "for name in check_null_QBs:\n",
    "    if name == True:\n",
    "        QB_count += 1\n",
    "print(QB_count)"
   ]
  },
  {
   "cell_type": "markdown",
   "metadata": {},
   "source": [
    "Similarly for QBs, I'll adjust them to their appropriate 2019 teams (more than I was expecting tbh)"
   ]
  },
  {
   "cell_type": "code",
   "execution_count": 114,
   "metadata": {},
   "outputs": [
    {
     "data": {
      "text/html": [
       "<div>\n",
       "<style scoped>\n",
       "    .dataframe tbody tr th:only-of-type {\n",
       "        vertical-align: middle;\n",
       "    }\n",
       "\n",
       "    .dataframe tbody tr th {\n",
       "        vertical-align: top;\n",
       "    }\n",
       "\n",
       "    .dataframe thead th {\n",
       "        text-align: right;\n",
       "    }\n",
       "</style>\n",
       "<table border=\"1\" class=\"dataframe\">\n",
       "  <thead>\n",
       "    <tr style=\"text-align: right;\">\n",
       "      <th></th>\n",
       "      <th>Name</th>\n",
       "      <th>Team</th>\n",
       "      <th>Points</th>\n",
       "    </tr>\n",
       "  </thead>\n",
       "  <tbody>\n",
       "    <tr>\n",
       "      <th>0</th>\n",
       "      <td>Lamar Jackson</td>\n",
       "      <td>BAL</td>\n",
       "      <td>415.68</td>\n",
       "    </tr>\n",
       "    <tr>\n",
       "      <th>1</th>\n",
       "      <td>Dak Prescott</td>\n",
       "      <td>DAL</td>\n",
       "      <td>337.78</td>\n",
       "    </tr>\n",
       "    <tr>\n",
       "      <th>2</th>\n",
       "      <td>Russell Wilson</td>\n",
       "      <td>SEA</td>\n",
       "      <td>328.60</td>\n",
       "    </tr>\n",
       "    <tr>\n",
       "      <th>3</th>\n",
       "      <td>Deshaun Watson</td>\n",
       "      <td>HOU</td>\n",
       "      <td>320.98</td>\n",
       "    </tr>\n",
       "    <tr>\n",
       "      <th>4</th>\n",
       "      <td>Jameis Winston</td>\n",
       "      <td>TB</td>\n",
       "      <td>305.36</td>\n",
       "    </tr>\n",
       "  </tbody>\n",
       "</table>\n",
       "</div>"
      ],
      "text/plain": [
       "             Name Team  Points\n",
       "0   Lamar Jackson  BAL  415.68\n",
       "1    Dak Prescott  DAL  337.78\n",
       "2  Russell Wilson  SEA  328.60\n",
       "3  Deshaun Watson  HOU  320.98\n",
       "4  Jameis Winston   TB  305.36"
      ]
     },
     "execution_count": 114,
     "metadata": {},
     "output_type": "execute_result"
    }
   ],
   "source": [
    "df_QBs.at[4, \"Team\"] = \"TB\"\n",
    "df_QBs.at[11, \"Team\"] = \"NE\"\n",
    "df_QBs.at[17, \"Team\"] = \"LAC\"\n",
    "df_QBs.at[24, \"Team\"] = \"CIN\"\n",
    "df_QBs.at[27, \"Team\"] = \"CAR\"\n",
    "df_QBs.at[30, \"Team\"] = \"WAS\"\n",
    "df_QBs.at[32, \"Team\"] = \"NO\"\n",
    "df_QBs.at[33, \"Team\"] = \"TEN\"\n",
    "df_QBs.at[34, \"Team\"] = \"DEN\"\n",
    "df_QBs.at[37, \"Team\"] = \"DET\"\n",
    "df_QBs.at[41, \"Team\"] = \"JAX\"\n",
    "df_QBs.at[43, \"Team\"] = \"DEN\"\n",
    "df_QBs.at[44, \"Team\"] = \"CHI\"\n",
    "df_QBs.at[46, \"Team\"] = \"IND\"\n",
    "df_QBs.at[49, \"Team\"] = \"CAR\"\n",
    "df_QBs.head()"
   ]
  },
  {
   "cell_type": "markdown",
   "metadata": {},
   "source": [
    "## Create DataFrame with teams, QB points, and WR points"
   ]
  },
  {
   "cell_type": "code",
   "execution_count": 115,
   "metadata": {},
   "outputs": [],
   "source": [
    "# is this too much list comprehension? Better way to do this?\n",
    "\n",
    "# make an array of each team\n",
    "all_teams = df_QBs.Team.unique()\n",
    "\n",
    "# make a list of the points for each QB on the same team, then iterate through all_teams and take the sum of each list\n",
    "all_QB_points = [sum([(df_QBs.iloc[i].Points) for i in range(len(df_QBs)) if (df_QBs.iloc[i].Team == all_teams[j])]) for j in range(len(all_teams))]\n",
    "\n",
    "# make a list of the points for each WR on the same team, then iterate through all_teams and take the sum of each list\n",
    "all_WR_points = [sum([(df_WRs.iloc[i].Points) for i in range(len(df_WRs)) if (df_WRs.iloc[i].Team == all_teams[j])]) for j in range(len(all_teams))]"
   ]
  },
  {
   "cell_type": "code",
   "execution_count": 116,
   "metadata": {},
   "outputs": [
    {
     "data": {
      "text/html": [
       "<div>\n",
       "<style scoped>\n",
       "    .dataframe tbody tr th:only-of-type {\n",
       "        vertical-align: middle;\n",
       "    }\n",
       "\n",
       "    .dataframe tbody tr th {\n",
       "        vertical-align: top;\n",
       "    }\n",
       "\n",
       "    .dataframe thead th {\n",
       "        text-align: right;\n",
       "    }\n",
       "</style>\n",
       "<table border=\"1\" class=\"dataframe\">\n",
       "  <thead>\n",
       "    <tr style=\"text-align: right;\">\n",
       "      <th></th>\n",
       "      <th>Team</th>\n",
       "      <th>QB points</th>\n",
       "      <th>WR points</th>\n",
       "    </tr>\n",
       "  </thead>\n",
       "  <tbody>\n",
       "    <tr>\n",
       "      <th>0</th>\n",
       "      <td>BAL</td>\n",
       "      <td>415.68</td>\n",
       "      <td>292.30</td>\n",
       "    </tr>\n",
       "    <tr>\n",
       "      <th>1</th>\n",
       "      <td>DAL</td>\n",
       "      <td>337.78</td>\n",
       "      <td>659.60</td>\n",
       "    </tr>\n",
       "    <tr>\n",
       "      <th>2</th>\n",
       "      <td>SEA</td>\n",
       "      <td>328.60</td>\n",
       "      <td>620.10</td>\n",
       "    </tr>\n",
       "    <tr>\n",
       "      <th>3</th>\n",
       "      <td>HOU</td>\n",
       "      <td>337.88</td>\n",
       "      <td>600.64</td>\n",
       "    </tr>\n",
       "    <tr>\n",
       "      <th>4</th>\n",
       "      <td>TB</td>\n",
       "      <td>305.36</td>\n",
       "      <td>730.40</td>\n",
       "    </tr>\n",
       "  </tbody>\n",
       "</table>\n",
       "</div>"
      ],
      "text/plain": [
       "  Team  QB points  WR points\n",
       "0  BAL     415.68     292.30\n",
       "1  DAL     337.78     659.60\n",
       "2  SEA     328.60     620.10\n",
       "3  HOU     337.88     600.64\n",
       "4   TB     305.36     730.40"
      ]
     },
     "execution_count": 116,
     "metadata": {},
     "output_type": "execute_result"
    }
   ],
   "source": [
    "# make DataFrame\n",
    "\n",
    "df_all = pd.DataFrame({\"Team\": all_teams, \"QB points\": all_QB_points, \"WR points\": all_WR_points})\n",
    "df_all.head()"
   ]
  },
  {
   "cell_type": "markdown",
   "metadata": {},
   "source": [
    "## Graph results with matplotlib"
   ]
  },
  {
   "cell_type": "code",
   "execution_count": 124,
   "metadata": {},
   "outputs": [
    {
     "data": {
      "image/png": "[encoded data removed]",
      "text/plain": [
       "<Figure size 1120x640 with 1 Axes>"
      ]
     },
     "metadata": {
      "needs_background": "light"
     },
     "output_type": "display_data"
    }
   ],
   "source": [
    "# show bar chart organized by QBs\n",
    "plt.figure(figsize=(14, 8), dpi=80)\n",
    "\n",
    "N = 33\n",
    "ind = np.arange(N)\n",
    "width = 0.3\n",
    "\n",
    "df_plot_QB = df_all.sort_values(by='QB points',ascending=False)\n",
    "# df_plot_QB\n",
    "plt.bar(ind, df_plot_QB[\"QB points\"], width, label='QBs')\n",
    "plt.bar(ind + width, df_plot_QB[\"WR points\"], width,\n",
    "    label='WRs')\n",
    "\n",
    "plt.ylabel('Fantasy points (NFL)')\n",
    "plt.xlabel('Team')\n",
    "plt.title('Fantasy football QB and WR performance by team: sort by QB performance')\n",
    "plt.xticks(ind + width / 2, df_plot_QB[\"Team\"], rotation=\"vertical\")\n",
    "plt.legend(loc='best')\n",
    "plt.show()"
   ]
  },
  {
   "cell_type": "markdown",
   "metadata": {},
   "source": [
    "Note that the \"N/A\" column refers to players who are not currently on an NFL team, either due to retirement or simply being a free agent at the time of this analysis."
   ]
  },
  {
   "cell_type": "markdown",
   "metadata": {},
   "source": [
    "We see Baltimore and New Orleans doing far better than third place Houston; however, it is worth noting that several of the points for NO come from their abnormal use of QB Taysom Hill, who often lines up as a receiver. This means his receiving points count for double for the Saints' total QB points."
   ]
  },
  {
   "cell_type": "code",
   "execution_count": 123,
   "metadata": {},
   "outputs": [
    {
     "data": {
      "image/png": "[encoded data removed]",
      "text/plain": [
       "<Figure size 1120x640 with 1 Axes>"
      ]
     },
     "metadata": {
      "needs_background": "light"
     },
     "output_type": "display_data"
    }
   ],
   "source": [
    "# show bar chart organized by WRs\n",
    "\n",
    "plt.figure(figsize=(14, 8), dpi=80)\n",
    "\n",
    "N = 33\n",
    "ind = np.arange(N)\n",
    "width = 0.3\n",
    "\n",
    "df_plot_WR = df_all.sort_values(by='WR points',ascending=False)\n",
    "plt.bar(ind, df_plot_WR[\"QB points\"], width, label='QBs')\n",
    "plt.bar(ind + width, df_plot_WR[\"WR points\"], width,\n",
    "    label='WRs')\n",
    "\n",
    "plt.ylabel('Fantasy points (NFL)')\n",
    "plt.xlabel('Team')\n",
    "plt.title('Fantasy football QB and WR performance by team: sort by WR performance')\n",
    "plt.xticks(ind + width / 2, df_plot_WR[\"Team\"], rotation=\"vertical\")\n",
    "plt.legend(loc='best')\n",
    "plt.show()"
   ]
  },
  {
   "cell_type": "markdown",
   "metadata": {},
   "source": [
    "Interestingly, our two best QB teams are in the lower half of this sorted graph. NO comes in at 23, which is especially remarkable considering they have the top overall receiver in Michael Thomas. "
   ]
  },
  {
   "cell_type": "markdown",
   "metadata": {},
   "source": [
    "More surprising is that BAL is dead last in WR points, by a decent margin. The very best individual QB score pairs with the very worst WR score. There are several reasons why this is: Lamar Jackson is a supremely mobile QB who scores a lot by running. He is also an excellent passer, but most of those passes apparently go to TEs and RBs. His best receiver was a rookie last year who will undoubtedly improve this year."
   ]
  },
  {
   "cell_type": "markdown",
   "metadata": {},
   "source": [
    "Quarterback points are a bit misleading on their own, as they include both rushing and throwing yards and touchdowns (also receptions for Taysom Hill. He honestly just deserves his own notebook). Rushing is worth 1 point per 10 yards and 6 points per touchdown. Let's modify QB points to only include passing yards and touchdowns. "
   ]
  },
  {
   "cell_type": "code",
   "execution_count": 131,
   "metadata": {},
   "outputs": [],
   "source": [
    "QB_rushing_yards_soup = soup7.findAll(\"td\", {\"class\": \"stat_14\"}) + soup8.findAll(\"td\", {\"class\": \"stat_14\"})\n",
    "QB_rushing_touchdowns_soup = soup7.findAll(\"td\", {\"class\": \"stat_15\"}) + soup8.findAll(\"td\", {\"class\": \"stat_15\"})\n",
    "\n",
    "QB_rushing_yards = [int(QB_rushing_yards_soup[i].string) for i in range(len(QB_rushing_yards_soup))]\n",
    "\n",
    "# NFL.com uses \"-\" for zero touchdowns, so let's replace that\n",
    "QB_rushing_touchdowns = [0 if (QB_rushing_touchdowns_soup[i].string == \"-\") else int(QB_rushing_touchdowns_soup[i].string) for i in range(len(QB_rushing_touchdowns_soup))]"
   ]
  },
  {
   "cell_type": "code",
   "execution_count": 128,
   "metadata": {},
   "outputs": [],
   "source": [
    "# find values to subtract from QB points\n",
    "\n",
    "QB_touchdown_points = list(map(lambda x: x*6, QB_rushing_touchdowns))\n",
    "QB_yardage_points = list(map(lambda x: round(x*.1), QB_rushing_yards))\n",
    "QB_rushing_points = [QB_touchdown_points[i] + QB_yardage_points[i] for i in range(len(QB_touchdown_points))]"
   ]
  },
  {
   "cell_type": "code",
   "execution_count": 129,
   "metadata": {},
   "outputs": [
    {
     "data": {
      "text/plain": [
       "0    252.68\n",
       "1    291.78\n",
       "2    276.60\n",
       "3    254.88\n",
       "4    274.36\n",
       "Name: QB points, dtype: float64"
      ]
     },
     "execution_count": 129,
     "metadata": {},
     "output_type": "execute_result"
    }
   ],
   "source": [
    "# subtract QB_rushing_points from df_all[\"QB points\"] to get throwing points\n",
    "\n",
    "df_all[\"QB points\"] = [df_all[\"QB points\"][i] - QB_rushing_points[i] for i in range(len(df_all))]\n",
    "df_all[\"QB points\"].head()"
   ]
  },
  {
   "cell_type": "markdown",
   "metadata": {},
   "source": [
    "## Graph QB points with rushing points subtracted"
   ]
  },
  {
   "cell_type": "code",
   "execution_count": 130,
   "metadata": {},
   "outputs": [
    {
     "data": {
      "image/png": "[encoded data removed]",
      "text/plain": [
       "<Figure size 1120x640 with 1 Axes>"
      ]
     },
     "metadata": {
      "needs_background": "light"
     },
     "output_type": "display_data"
    }
   ],
   "source": [
    "# show bar chart organized by QBs\n",
    "plt.figure(figsize=(14, 8), dpi=80)\n",
    "\n",
    "N = 33\n",
    "ind = np.arange(N)\n",
    "width = 0.3\n",
    "\n",
    "df_plot_QB = df_all.sort_values(by='QB points',ascending=False)\n",
    "plt.bar(ind, df_plot_QB[\"QB points\"], width, label='QBs')\n",
    "plt.bar(ind + width, df_plot_QB[\"WR points\"], width,\n",
    "    label='WRs')\n",
    "\n",
    "plt.ylabel('Fantasy points (NFL)')\n",
    "plt.xlabel('Team')\n",
    "plt.title('Fantasy football QB and WR performance by team: sort by QB performance')\n",
    "plt.xticks(ind + width / 2, df_plot_QB[\"Team\"], rotation=\"vertical\")\n",
    "plt.legend(loc='best')\n",
    "plt.show()"
   ]
  },
  {
   "cell_type": "markdown",
   "metadata": {},
   "source": [
    "Here, Baltimore regresses to the mean. This chart more accurately illustrates QB throwing efficiency as it relates to WR points. New Orleans is still an outlier, as may be expected of a team with three QBs in the top 50 QB fantasy points scored."
   ]
  },
  {
   "cell_type": "markdown",
   "metadata": {},
   "source": [
    "## Conclusions"
   ]
  },
  {
   "cell_type": "markdown",
   "metadata": {},
   "source": [
    "It seems, unsurprisingly, like there is some relationship between QB success and WR success. It also seems like some teams' WRs underperformed relative to the mean and relative to what would be expected of a team with a quality quarterback. This could be due to a number of factors; personnel selection due to talented TEs and RBs, game balance, play selection, QB choosing to run vs pass, etc. "
   ]
  },
  {
   "cell_type": "markdown",
   "metadata": {},
   "source": [
    "From observation, better QB play means better WR play. This also shows which teams place more emphasis on WR play than others, which is probably the most immediately helpful takeaway from this exercise. "
   ]
  },
  {
   "cell_type": "markdown",
   "metadata": {},
   "source": [
    "Furthermore, good QB play is only slightly related to quality WR play; this would indicate that the best QBs often find a way to get points regardless of their supporting cast. "
   ]
  },
  {
   "cell_type": "markdown",
   "metadata": {},
   "source": [
    "## Issues"
   ]
  },
  {
   "cell_type": "markdown",
   "metadata": {},
   "source": [
    "Data issues\n",
    "- only changed the top 75 WRs\n",
    "\n",
    "Can't do much meaningful forecasting from this data\n",
    "- doesn't include rookies\n",
    "- doesn't include current injuries, including COVID things\n",
    "- doesn't include injury likelihood (could extrapolate from history by comparing how many games played vs how many games total)"
   ]
  },
  {
   "cell_type": "markdown",
   "metadata": {},
   "source": [
    "## Future changes or additions and other thoughts"
   ]
  },
  {
   "cell_type": "markdown",
   "metadata": {},
   "source": [
    "- more positions \n",
    "    - Tight ends \n",
    "    - Running backs\n",
    "- add rookie predictions\n",
    "    - Maybe by comparing historical success based on draft position?\n",
    "- find trendline/meaningful number representing relationship of QB fantasy success to WR fantasy success\n",
    "\n",
    "\n",
    "The best WRs on each team are already pretty well-known. I wonder if we remove the top 50 or so how the results would change? That would probably help in making later picks by being a better indicator of which teams are more likely to use their benches or WR2s."
   ]
  },
  {
   "cell_type": "markdown",
   "metadata": {},
   "source": [
    "# Thanks for reading!"
   ]
  }
 ],
 "metadata": {
  "kernelspec": {
   "display_name": "Python 3",
   "language": "python",
   "name": "python3"
  },
  "language_info": {
   "codemirror_mode": {
    "name": "ipython",
    "version": 3
   },
   "file_extension": ".py",
   "mimetype": "text/x-python",
   "name": "python",
   "nbconvert_exporter": "python",
   "pygments_lexer": "ipython3",
   "version": "3.8.3"
  }
 },
 "nbformat": 4,
 "nbformat_minor": 4
}
